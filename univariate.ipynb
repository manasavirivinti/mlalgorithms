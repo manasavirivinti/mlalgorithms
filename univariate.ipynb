{
 "cells": [
  {
   "cell_type": "code",
   "execution_count": 1,
   "metadata": {},
   "outputs": [
    {
     "name": "stdout",
     "output_type": "stream",
     "text": [
      "Univariate Linear Regression\n",
      "Mean Squared Error: 0.7654104970374587\n",
      "R^2 Score: 0.692606226089374\n",
      "\n"
     ]
    }
   ],
   "source": [
    "import pandas as pd\n",
    "from sklearn.model_selection import train_test_split\n",
    "from sklearn.linear_model import LinearRegression\n",
    "from sklearn.metrics import mean_squared_error, r2_score\n",
    "\n",
    "# Load the dataset\n",
    "data = pd.read_csv('./STTs.csv')\n",
    "\n",
    "# Hypothetical target: Predicting the number of words in a sentence\n",
    "data['num_words'] = data['name'].apply(lambda x: len(x.split()))\n",
    "\n",
    "# Univariate feature: Length of the name\n",
    "data['name_length'] = data['name'].apply(len)\n",
    "\n",
    "# Features and target variable\n",
    "X_uni = data[['name_length']]\n",
    "y = data['num_words']\n",
    "\n",
    "# Split the dataset\n",
    "X_train_uni, X_test_uni, y_train_uni, y_test_uni = train_test_split(X_uni, y, test_size=0.2, random_state=42)\n",
    "\n",
    "# Train the model\n",
    "model_uni = LinearRegression()\n",
    "model_uni.fit(X_train_uni, y_train_uni)\n",
    "\n",
    "# Predictions\n",
    "y_pred_uni = model_uni.predict(X_test_uni)\n",
    "\n",
    "# Evaluation\n",
    "print(\"Univariate Linear Regression\")\n",
    "print(\"Mean Squared Error:\", mean_squared_error(y_test_uni, y_pred_uni))\n",
    "print(\"R^2 Score:\", r2_score(y_test_uni, y_pred_uni))\n",
    "print()\n"
   ]
  }
 ],
 "metadata": {
  "kernelspec": {
   "display_name": "Python 3",
   "language": "python",
   "name": "python3"
  },
  "language_info": {
   "codemirror_mode": {
    "name": "ipython",
    "version": 3
   },
   "file_extension": ".py",
   "mimetype": "text/x-python",
   "name": "python",
   "nbconvert_exporter": "python",
   "pygments_lexer": "ipython3",
   "version": "3.11.9"
  }
 },
 "nbformat": 4,
 "nbformat_minor": 2
}

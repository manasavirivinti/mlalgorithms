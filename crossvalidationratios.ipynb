{
 "cells": [
  {
   "cell_type": "code",
   "execution_count": 3,
   "metadata": {},
   "outputs": [
    {
     "name": "stdout",
     "output_type": "stream",
     "text": [
      "Cross-Validation Scores for 80-20 Split: [0.9, 0.9, 0.95, 0.9, 1.0]\n",
      "Mean Score: 0.93\n",
      "\n",
      "Cross-Validation Scores for 70-30 Split: [0.9, 0.9666666666666667, 0.9333333333333333, 0.9333333333333333, 1.0]\n",
      "Mean Score: 0.9466666666666667\n",
      "\n",
      "Cross-Validation Scores for 60-40 Split: [0.95, 0.975, 0.975, 0.925, 1.0]\n",
      "Mean Score: 0.9650000000000001\n",
      "\n"
     ]
    }
   ],
   "source": [
    "import numpy as np\n",
    "from sklearn.model_selection import train_test_split\n",
    "from sklearn.ensemble import RandomForestClassifier\n",
    "from sklearn.metrics import accuracy_score\n",
    "from sklearn.datasets import make_classification\n",
    "\n",
    "\n",
    "# Generate a random dataset\n",
    "X, y = make_classification(n_samples=100, n_features=20, n_classes=2, random_state=42)\n",
    "\n",
    "# Initialize the classifier\n",
    "clf = RandomForestClassifier(random_state=42)\n",
    "\n",
    "# Function to perform manual cross-validation and print results\n",
    "def manual_cross_validation(X, y, test_size, n_splits=5):\n",
    "    scores = []\n",
    "    for i in range(n_splits):\n",
    "        X_train, X_test, y_train, y_test = train_test_split(X, y, test_size=test_size, random_state=42 + i)\n",
    "        clf.fit(X_train, y_train)\n",
    "        y_pred = clf.predict(X_test)\n",
    "        scores.append(accuracy_score(y_test, y_pred))\n",
    "    mean_score = np.mean(scores)\n",
    "    return scores, mean_score\n",
    "\n",
    "# Perform manual cross-validation for different ratios\n",
    "ratios = [0.2, 0.3, 0.4]  # Corresponding to 80-20, 70-30, and 60-40 splits\n",
    "for ratio in ratios:\n",
    "    scores, mean_score = manual_cross_validation(X, y, test_size=ratio)\n",
    "    print(f\"Cross-Validation Scores for {int((1-ratio)*100)}-{int(ratio*100)} Split: {scores}\")\n",
    "    print(f\"Mean Score: {mean_score}\\n\")\n"
   ]
  }
 ],
 "metadata": {
  "kernelspec": {
   "display_name": "Python 3",
   "language": "python",
   "name": "python3"
  },
  "language_info": {
   "codemirror_mode": {
    "name": "ipython",
    "version": 3
   },
   "file_extension": ".py",
   "mimetype": "text/x-python",
   "name": "python",
   "nbconvert_exporter": "python",
   "pygments_lexer": "ipython3",
   "version": "3.11.9"
  }
 },
 "nbformat": 4,
 "nbformat_minor": 2
}

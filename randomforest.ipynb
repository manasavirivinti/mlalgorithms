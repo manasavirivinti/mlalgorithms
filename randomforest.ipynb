{
 "cells": [
  {
   "cell_type": "code",
   "execution_count": 9,
   "metadata": {},
   "outputs": [
    {
     "name": "stdout",
     "output_type": "stream",
     "text": [
      "Accuracy: (0.79\n",
      "\n",
      "Classification Report: \n",
      "               precision    recall  f1-score   support\n",
      "\n",
      "           0       0.82      0.83      0.82       105\n",
      "           1       0.75      0.74      0.75        74\n",
      "\n",
      "    accuracy                           0.79       179\n",
      "   macro avg       0.79      0.79      0.79       179\n",
      "weighted avg       0.79      0.79      0.79       179\n",
      "\n"
     ]
    }
   ],
   "source": [
    "# Import necessary libraries\n",
    "import pandas as pd\n",
    "from sklearn.model_selection import train_test_split \n",
    "from sklearn.ensemble import RandomForestClassifier\n",
    "import warnings\n",
    "from sklearn.metrics import accuracy_score, classification_report\n",
    "warnings.filterwarnings(\"ignore\")\n",
    "#Load the Titanic dataset\n",
    "url=\"https://raw.githubusercontent.com/datasciencedojo/datasets/master/titanic.csv\" \n",
    "titanic_data=pd.read_csv(url)\n",
    "#Drop rows with missing target values \n",
    "titanic_data=titanic_data.dropna(subset=['Survived'])\n",
    "# Select relevant features and target variable\n",
    "X=titanic_data[['Pclass', 'Sex', 'Age', 'Parch', 'Fare']] \n",
    "y=titanic_data['Survived']\n",
    "# Convert categorical variable \"Sex' to numerical using loc \n",
    "X.loc[:, 'Sex']=X['Sex'].map({'female': 0, 'male':1})\n",
    "# Handle missing values in the Age column using loc \n",
    "X.loc[:, 'Age'].fillna(X['Age'].median(), inplace=True)\n",
    "#Split the dataset into training and testing sets \n",
    "X_train, X_test, y_train, y_test=train_test_split(X, y, test_size=0.2, random_state=42)\n",
    "# Create a Random Forest Classifier\n",
    "rf_classifier=RandomForestClassifier(n_estimators=100, random_state=42)\n",
    "#Train the classifier \n",
    "rf_classifier.fit(X_train, y_train)\n",
    "#Make predictions on the test set \n",
    "y_pred=rf_classifier.predict(X_test)\n",
    "# Evaluate the model \n",
    "accuracy=accuracy_score(y_test, y_pred) \n",
    "classification_rep=classification_report(y_test, y_pred)\n",
    "#Print the results\n",
    "print(f\"Accuracy: ({accuracy:.2f}\") \n",
    "print(\"\\nClassification Report: \\n\", classification_rep)"
   ]
  }
 ],
 "metadata": {
  "kernelspec": {
   "display_name": "Python 3",
   "language": "python",
   "name": "python3"
  },
  "language_info": {
   "codemirror_mode": {
    "name": "ipython",
    "version": 3
   },
   "file_extension": ".py",
   "mimetype": "text/x-python",
   "name": "python",
   "nbconvert_exporter": "python",
   "pygments_lexer": "ipython3",
   "version": "3.11.9"
  }
 },
 "nbformat": 4,
 "nbformat_minor": 2
}

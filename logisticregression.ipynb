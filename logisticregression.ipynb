{
 "cells": [
  {
   "cell_type": "code",
   "execution_count": 6,
   "metadata": {},
   "outputs": [
    {
     "name": "stderr",
     "output_type": "stream",
     "text": [
      "C:\\Users\\LENOVO\\AppData\\Local\\Packages\\PythonSoftwareFoundation.Python.3.11_qbz5n2kfra8p0\\LocalCache\\local-packages\\Python311\\site-packages\\sklearn\\metrics\\_classification.py:1471: UndefinedMetricWarning: Precision is ill-defined and being set to 0.0 due to no predicted samples. Use `zero_division` parameter to control this behavior.\n",
      "  _warn_prf(average, modifier, msg_start, len(result))\n",
      "C:\\Users\\LENOVO\\AppData\\Local\\Packages\\PythonSoftwareFoundation.Python.3.11_qbz5n2kfra8p0\\LocalCache\\local-packages\\Python311\\site-packages\\sklearn\\metrics\\_classification.py:1471: UndefinedMetricWarning: Precision is ill-defined and being set to 0.0 due to no predicted samples. Use `zero_division` parameter to control this behavior.\n",
      "  _warn_prf(average, modifier, msg_start, len(result))\n",
      "C:\\Users\\LENOVO\\AppData\\Local\\Packages\\PythonSoftwareFoundation.Python.3.11_qbz5n2kfra8p0\\LocalCache\\local-packages\\Python311\\site-packages\\sklearn\\metrics\\_classification.py:1471: UndefinedMetricWarning: Recall is ill-defined and being set to 0.0 due to no true samples. Use `zero_division` parameter to control this behavior.\n",
      "  _warn_prf(average, modifier, msg_start, len(result))\n",
      "C:\\Users\\LENOVO\\AppData\\Local\\Packages\\PythonSoftwareFoundation.Python.3.11_qbz5n2kfra8p0\\LocalCache\\local-packages\\Python311\\site-packages\\sklearn\\metrics\\_classification.py:1471: UndefinedMetricWarning: Precision is ill-defined and being set to 0.0 due to no predicted samples. Use `zero_division` parameter to control this behavior.\n",
      "  _warn_prf(average, modifier, msg_start, len(result))\n"
     ]
    },
    {
     "name": "stdout",
     "output_type": "stream",
     "text": [
      "Cross-Validation Accuracy Scores for 80-20 Split with Feature Selection: [0.0, 0.6666666666666666, 0.3333333333333333, 0.0, 0.3333333333333333]\n",
      "Mean Accuracy Score: 0.26666666666666666\n",
      "Cross-Validation Precision Scores for 80-20 Split with Feature Selection: [0.0, 0.0, 0.3333333333333333, 0.0, 0.0]\n",
      "Mean Precision Score: 0.06666666666666667\n",
      "Cross-Validation Recall Scores for 80-20 Split with Feature Selection: [0.0, 0.0, 1.0, 0.0, 0.0]\n",
      "Mean Recall Score: 0.2\n",
      "Cross-Validation F1 Scores for 80-20 Split with Feature Selection: [0.0, 0.0, 0.5, 0.0, 0.0]\n",
      "Mean F1 Score: 0.1\n",
      "\n"
     ]
    },
    {
     "name": "stderr",
     "output_type": "stream",
     "text": [
      "C:\\Users\\LENOVO\\AppData\\Local\\Packages\\PythonSoftwareFoundation.Python.3.11_qbz5n2kfra8p0\\LocalCache\\local-packages\\Python311\\site-packages\\sklearn\\metrics\\_classification.py:1471: UndefinedMetricWarning: Precision is ill-defined and being set to 0.0 due to no predicted samples. Use `zero_division` parameter to control this behavior.\n",
      "  _warn_prf(average, modifier, msg_start, len(result))\n",
      "C:\\Users\\LENOVO\\AppData\\Local\\Packages\\PythonSoftwareFoundation.Python.3.11_qbz5n2kfra8p0\\LocalCache\\local-packages\\Python311\\site-packages\\sklearn\\metrics\\_classification.py:1471: UndefinedMetricWarning: Precision is ill-defined and being set to 0.0 due to no predicted samples. Use `zero_division` parameter to control this behavior.\n",
      "  _warn_prf(average, modifier, msg_start, len(result))\n",
      "C:\\Users\\LENOVO\\AppData\\Local\\Packages\\PythonSoftwareFoundation.Python.3.11_qbz5n2kfra8p0\\LocalCache\\local-packages\\Python311\\site-packages\\sklearn\\metrics\\_classification.py:1471: UndefinedMetricWarning: Precision is ill-defined and being set to 0.0 due to no predicted samples. Use `zero_division` parameter to control this behavior.\n",
      "  _warn_prf(average, modifier, msg_start, len(result))\n"
     ]
    },
    {
     "name": "stdout",
     "output_type": "stream",
     "text": [
      "Cross-Validation Accuracy Scores for 70-30 Split with Feature Selection: [0.25, 0.25, 0.25, 0.25, 0.5]\n",
      "Mean Accuracy Score: 0.3\n",
      "Cross-Validation Precision Scores for 70-30 Split with Feature Selection: [0.0, 0.25, 0.25, 0.25, 0.0]\n",
      "Mean Precision Score: 0.15\n",
      "Cross-Validation Recall Scores for 70-30 Split with Feature Selection: [0.0, 1.0, 1.0, 1.0, 0.0]\n",
      "Mean Recall Score: 0.6\n",
      "Cross-Validation F1 Scores for 70-30 Split with Feature Selection: [0.0, 0.4, 0.4, 0.4, 0.0]\n",
      "Mean F1 Score: 0.24000000000000005\n",
      "\n"
     ]
    },
    {
     "name": "stderr",
     "output_type": "stream",
     "text": [
      "C:\\Users\\LENOVO\\AppData\\Local\\Packages\\PythonSoftwareFoundation.Python.3.11_qbz5n2kfra8p0\\LocalCache\\local-packages\\Python311\\site-packages\\sklearn\\metrics\\_classification.py:1471: UndefinedMetricWarning: Precision is ill-defined and being set to 0.0 due to no predicted samples. Use `zero_division` parameter to control this behavior.\n",
      "  _warn_prf(average, modifier, msg_start, len(result))\n"
     ]
    },
    {
     "name": "stdout",
     "output_type": "stream",
     "text": [
      "Cross-Validation Accuracy Scores for 60-40 Split with Feature Selection: [0.4, 0.6, 0.4, 0.4, 0.2]\n",
      "Mean Accuracy Score: 0.39999999999999997\n",
      "Cross-Validation Precision Scores for 60-40 Split with Feature Selection: [0.0, 0.0, 0.4, 0.4, 0.25]\n",
      "Mean Precision Score: 0.21000000000000002\n",
      "Cross-Validation Recall Scores for 60-40 Split with Feature Selection: [0.0, 0.0, 1.0, 1.0, 0.5]\n",
      "Mean Recall Score: 0.5\n",
      "Cross-Validation F1 Scores for 60-40 Split with Feature Selection: [0.0, 0.0, 0.5714285714285715, 0.5714285714285715, 0.3333333333333333]\n",
      "Mean F1 Score: 0.29523809523809524\n",
      "\n"
     ]
    }
   ],
   "source": [
    "import pandas as pd\n",
    "import numpy as np\n",
    "from sklearn.datasets import make_classification\n",
    "from sklearn.model_selection import train_test_split\n",
    "from sklearn.linear_model import LogisticRegression\n",
    "from sklearn.feature_extraction.text import TfidfVectorizer\n",
    "from sklearn.metrics import accuracy_score, precision_score, recall_score, f1_score\n",
    "from sklearn.feature_selection import RFE\n",
    "\n",
    "# Hypothetical example: assume 'STTs.csv' has a binary target 'label'\n",
    "data = pd.read_csv('./data.csv')\n",
    "data['num_words'] = data['name'].apply(lambda x: len(x.split()))\n",
    "\n",
    "# Features and target variable\n",
    "X = data['name']\n",
    "y = data['n_label']  # Assuming the label column exists and is binary\n",
    "\n",
    "# Convert text data to numerical data using TF-IDF\n",
    "tfidf = TfidfVectorizer()\n",
    "X_tfidf = tfidf.fit_transform(X)\n",
    "\n",
    "# Initialize the logistic regression model\n",
    "log_reg = LogisticRegression(random_state=42)\n",
    "\n",
    "# Feature selection using RFE\n",
    "def feature_selection_rfe(X, y, n_features_to_select=10):\n",
    "    selector = RFE(log_reg, n_features_to_select=n_features_to_select, step=1)\n",
    "    selector = selector.fit(X, y)\n",
    "    return selector.support_\n",
    "\n",
    "# Function to perform manual cross-validation with feature selection and print results\n",
    "def manual_cross_validation_with_fs(X, y, test_size, n_splits=5, n_features_to_select=10):\n",
    "    accuracy_scores = []\n",
    "    precision_scores = []\n",
    "    recall_scores = []\n",
    "    f1_scores = []\n",
    "    \n",
    "    for i in range(n_splits):\n",
    "        X_train, X_test, y_train, y_test = train_test_split(X, y, test_size=test_size, random_state=42 + i)\n",
    "        \n",
    "        # Feature selection on training data\n",
    "        selected_features = feature_selection_rfe(X_train, y_train, n_features_to_select)\n",
    "        X_train_selected = X_train[:, selected_features]\n",
    "        X_test_selected = X_test[:, selected_features]\n",
    "        \n",
    "        log_reg.fit(X_train_selected, y_train)\n",
    "        y_pred = log_reg.predict(X_test_selected)\n",
    "        \n",
    "        accuracy_scores.append(accuracy_score(y_test, y_pred))\n",
    "        precision_scores.append(precision_score(y_test, y_pred))\n",
    "        recall_scores.append(recall_score(y_test, y_pred))\n",
    "        f1_scores.append(f1_score(y_test, y_pred))\n",
    "    \n",
    "    mean_accuracy = np.mean(accuracy_scores)\n",
    "    mean_precision = np.mean(precision_scores)\n",
    "    mean_recall = np.mean(recall_scores)\n",
    "    mean_f1 = np.mean(f1_scores)\n",
    "    \n",
    "    return accuracy_scores, mean_accuracy, precision_scores, mean_precision, recall_scores, mean_recall, f1_scores, mean_f1\n",
    "\n",
    "# Perform manual cross-validation for different ratios with feature selection\n",
    "ratios = [0.2, 0.3, 0.4]  # Corresponding to 80-20, 70-30, and 60-40 splits\n",
    "n_features_to_select = 2  # Number of features to select\n",
    "for ratio in ratios:\n",
    "    accuracy_scores, mean_accuracy, precision_scores, mean_precision, recall_scores, mean_recall, f1_scores, mean_f1 = manual_cross_validation_with_fs(X_tfidf, y, test_size=ratio, n_features_to_select=n_features_to_select)\n",
    "    \n",
    "    print(f\"Cross-Validation Accuracy Scores for {int((1-ratio)*100)}-{int(ratio*100)} Split with Feature Selection: {accuracy_scores}\")\n",
    "    print(f\"Mean Accuracy Score: {mean_accuracy}\")\n",
    "    print(f\"Cross-Validation Precision Scores for {int((1-ratio)*100)}-{int(ratio*100)} Split with Feature Selection: {precision_scores}\")\n",
    "    print(f\"Mean Precision Score: {mean_precision}\")\n",
    "    print(f\"Cross-Validation Recall Scores for {int((1-ratio)*100)}-{int(ratio*100)} Split with Feature Selection: {recall_scores}\")\n",
    "    print(f\"Mean Recall Score: {mean_recall}\")\n",
    "    print(f\"Cross-Validation F1 Scores for {int((1-ratio)*100)}-{int(ratio*100)} Split with Feature Selection: {f1_scores}\")\n",
    "    print(f\"Mean F1 Score: {mean_f1}\\n\")\n"
   ]
  }
 ],
 "metadata": {
  "kernelspec": {
   "display_name": "Python 3",
   "language": "python",
   "name": "python3"
  },
  "language_info": {
   "codemirror_mode": {
    "name": "ipython",
    "version": 3
   },
   "file_extension": ".py",
   "mimetype": "text/x-python",
   "name": "python",
   "nbconvert_exporter": "python",
   "pygments_lexer": "ipython3",
   "version": "3.11.9"
  }
 },
 "nbformat": 4,
 "nbformat_minor": 2
}

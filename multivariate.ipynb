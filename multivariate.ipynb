{
 "cells": [
  {
   "cell_type": "code",
   "execution_count": 1,
   "metadata": {},
   "outputs": [
    {
     "name": "stdout",
     "output_type": "stream",
     "text": [
      "Multivariate Linear Regression\n",
      "Mean Squared Error: 9.466330862652141e-31\n",
      "R^2 Score: 1.0\n",
      "\n"
     ]
    }
   ],
   "source": [
    "import pandas as pd\n",
    "from sklearn.model_selection import train_test_split\n",
    "from sklearn.linear_model import LinearRegression\n",
    "from sklearn.metrics import mean_squared_error, r2_score\n",
    "from sklearn.preprocessing import OneHotEncoder\n",
    "\n",
    "# Load the dataset\n",
    "data = pd.read_csv('./STTs.csv')\n",
    "\n",
    "# Hypothetical target: Predicting the number of words in a sentence\n",
    "data['num_words'] = data['name'].apply(lambda x: len(x.split()))\n",
    "\n",
    "# Multivariate features: Length of the name, number of words, and a one-hot encoded categorical feature\n",
    "data['name_length'] = data['name'].apply(len)\n",
    "\n",
    "# One-Hot Encoding for the categorical feature 'category'\n",
    "if 'name' in data.columns:\n",
    "    encoder = OneHotEncoder()\n",
    "    X_encoded = encoder.fit_transform(data[['name']])\n",
    "    X_encoded_df = pd.DataFrame(X_encoded.toarray(), columns=encoder.get_feature_names_out(['name']))\n",
    "    data = pd.concat([data, X_encoded_df], axis=1)\n",
    "\n",
    "# Features and target variable\n",
    "feature_columns = ['name_length', 'num_words'] + list(X_encoded_df.columns) if 'category' in data.columns else ['name_length', 'num_words']\n",
    "X_multi = data[feature_columns]\n",
    "y = data['num_words']\n",
    "\n",
    "# Split the dataset\n",
    "X_train_multi, X_test_multi, y_train_multi, y_test_multi = train_test_split(X_multi, y, test_size=0.2, random_state=42)\n",
    "\n",
    "# Train the model\n",
    "model_multi = LinearRegression()\n",
    "model_multi.fit(X_train_multi, y_train_multi)\n",
    "\n",
    "# Predictions\n",
    "y_pred_multi = model_multi.predict(X_test_multi)\n",
    "\n",
    "# Evaluation\n",
    "print(\"Multivariate Linear Regression\")\n",
    "print(\"Mean Squared Error:\", mean_squared_error(y_test_multi, y_pred_multi))\n",
    "print(\"R^2 Score:\", r2_score(y_test_multi, y_pred_multi))\n",
    "print()\n"
   ]
  }
 ],
 "metadata": {
  "kernelspec": {
   "display_name": "Python 3",
   "language": "python",
   "name": "python3"
  },
  "language_info": {
   "codemirror_mode": {
    "name": "ipython",
    "version": 3
   },
   "file_extension": ".py",
   "mimetype": "text/x-python",
   "name": "python",
   "nbconvert_exporter": "python",
   "pygments_lexer": "ipython3",
   "version": "3.11.9"
  }
 },
 "nbformat": 4,
 "nbformat_minor": 2
}

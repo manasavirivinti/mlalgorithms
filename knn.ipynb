{
 "cells": [
  {
   "cell_type": "code",
   "execution_count": 1,
   "metadata": {},
   "outputs": [
    {
     "name": "stdout",
     "output_type": "stream",
     "text": [
      "                         id                                             name  \\\n",
      "0  62ecc47743eb9921f4be56b7        The troubled history of Jammu and Kashmir   \n",
      "1  62e3bb3d4c48a5cdd5cd99c2          Patriots, Scientists. Forgotten Heroes!   \n",
      "2  62e284e2c7afea30585166a4  India Inc- How India opened up to world economy   \n",
      "3  62e0c0184e2beaeb406b861d                Profit Motive with Gaurav Rastogi   \n",
      "4  62de399a2345d7d42ddb3114              Curtain Call with The Drama Library   \n",
      "\n",
      "                                                text    label  segment_label  \\\n",
      "0  Hello and welcome to another edition of Open t...  history              0   \n",
      "1  Namastkar Swagat Platform twitter Facebook Lin...  science              1   \n",
      "2  So hello and welcome to another episode of Ind...  fiction              2   \n",
      "3  So hello and welcome, everybody, to this editi...  history              3   \n",
      "4  So hello and welcome everybody to Kulk. We are...    anime              4   \n",
      "\n",
      "  sentiment  n_label  \n",
      "0  negative        1  \n",
      "1   neutral        0  \n",
      "2  positive        0  \n",
      "3   neutral        1  \n",
      "4  positive        0  \n",
      "id               0\n",
      "name             0\n",
      "text             0\n",
      "label            1\n",
      "segment_label    0\n",
      "sentiment        0\n",
      "n_label          0\n",
      "dtype: int64\n",
      "segment_label\n",
      "1    3\n",
      "0    2\n",
      "2    2\n",
      "3    2\n",
      "4    2\n",
      "Name: count, dtype: int64\n"
     ]
    },
    {
     "data": {
      "image/png": "[encoded data removed]",
      "text/plain": [
       "<Figure size 640x480 with 1 Axes>"
      ]
     },
     "metadata": {},
     "output_type": "display_data"
    },
    {
     "name": "stdout",
     "output_type": "stream",
     "text": [
      "Accuracy: 0.2\n",
      "Classification Report:\n",
      "              precision    recall  f1-score   support\n",
      "\n",
      "           0       1.00      0.00      0.00         1\n",
      "           1       0.20      1.00      0.33         1\n",
      "           2       1.00      0.00      0.00         1\n",
      "           3       1.00      0.00      0.00         1\n",
      "           4       1.00      0.00      0.00         1\n",
      "\n",
      "    accuracy                           0.20         5\n",
      "   macro avg       0.84      0.20      0.07         5\n",
      "weighted avg       0.84      0.20      0.07         5\n",
      "\n"
     ]
    }
   ],
   "source": [
    "import pandas as pd\n",
    "from sklearn.model_selection import train_test_split\n",
    "from sklearn.neighbors import KNeighborsClassifier\n",
    "from sklearn.feature_extraction.text import TfidfVectorizer\n",
    "from sklearn.metrics import accuracy_score, classification_report\n",
    "import seaborn as sns\n",
    "import matplotlib.pyplot as plt\n",
    "# Load the dataset\n",
    "data = pd.read_csv('data.csv')\n",
    "# Check the structure of the dataset\n",
    "print(data.head())\n",
    "# Check for missing values\n",
    "print(data.isnull().sum())\n",
    "# Check the distribution of segment labels\n",
    "label_counts = data['segment_label'].value_counts()\n",
    "print(label_counts)\n",
    "# Plot the distribution of segment labels\n",
    "sns.countplot(x='segment_label', data=data)\n",
    "plt.show()\n",
    "# Remove classes with fewer than two samples\n",
    "data = data[data['segment_label'].isin(label_counts[label_counts >= 2].index)]\n",
    "# Features and target variable\n",
    "X = data['text']\n",
    "y = data['segment_label']\n",
    "# Convert text data to numerical data using TF-IDF\n",
    "tfidf = TfidfVectorizer()\n",
    "X_tfidf = tfidf.fit_transform(X)\n",
    "# Ensure test_size is large enough to include all classes\n",
    "test_size = max(0.2, len(data['segment_label'].unique()) / len(data))\n",
    "# Split the dataset\n",
    "X_train, X_test, y_train, y_test = train_test_split(X_tfidf, y, test_size=test_size, random_state=42, stratify=y)\n",
    "# Train the model\n",
    "model = KNeighborsClassifier(n_neighbors=3)\n",
    "model.fit(X_train, y_train)\n",
    "# Predictions\n",
    "y_pred = model.predict(X_test)\n",
    "\n",
    "# Evaluation\n",
    "print(\"Accuracy:\", accuracy_score(y_test, y_pred))\n",
    "print(\"Classification Report:\")\n",
    "print(classification_report(y_test, y_pred, zero_division=1))\n"
   ]
  }
 ],
 "metadata": {
  "kernelspec": {
   "display_name": "Python 3",
   "language": "python",
   "name": "python3"
  },
  "language_info": {
   "codemirror_mode": {
    "name": "ipython",
    "version": 3
   },
   "file_extension": ".py",
   "mimetype": "text/x-python",
   "name": "python",
   "nbconvert_exporter": "python",
   "pygments_lexer": "ipython3",
   "version": "3.11.9"
  }
 },
 "nbformat": 4,
 "nbformat_minor": 2
}

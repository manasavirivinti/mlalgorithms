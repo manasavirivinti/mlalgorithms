{
 "cells": [
  {
   "cell_type": "code",
   "execution_count": 1,
   "metadata": {},
   "outputs": [
    {
     "name": "stdout",
     "output_type": "stream",
     "text": [
      "K-Fold Cross-Validation Scores: [0.95 0.95 0.95 0.95 0.9 ]\n",
      "Mean Score: 0.9400000000000001\n",
      "\n",
      "Stratified K-Fold Cross-Validation Scores: [0.95 0.9  0.9  0.95 0.95]\n",
      "Mean Score: 0.93\n",
      "\n",
      "Leave-One-Out Cross-Validation Scores: [1. 1. 0. 1. 1. 1. 1. 1. 1. 1. 1. 1. 1. 1. 1. 1. 1. 1. 0. 1. 1. 1. 1. 1.\n",
      " 1. 1. 1. 1. 1. 1. 1. 1. 1. 1. 1. 1. 0. 1. 1. 1. 1. 1. 1. 1. 1. 1. 1. 1.\n",
      " 1. 1. 1. 1. 1. 1. 1. 1. 1. 1. 0. 1. 0. 1. 1. 1. 1. 1. 1. 1. 1. 1. 1. 1.\n",
      " 1. 1. 1. 1. 1. 1. 1. 1. 1. 1. 1. 1. 1. 1. 1. 1. 0. 1. 1. 1. 1. 1. 1. 1.\n",
      " 1. 1. 1. 1.]\n",
      "Mean Score: 0.94\n",
      "\n",
      "Repeated K-Fold Cross-Validation Scores: [0.95 0.95 0.95 0.95 0.9  1.   0.85 1.   0.95 0.95]\n",
      "Mean Score: 0.945\n",
      "\n"
     ]
    }
   ],
   "source": [
    "from sklearn.datasets import make_classification\n",
    "from sklearn.model_selection import (\n",
    "    KFold,\n",
    "    StratifiedKFold,\n",
    "    LeaveOneOut,\n",
    "    RepeatedKFold,\n",
    "    cross_val_score\n",
    ")\n",
    "from sklearn.ensemble import RandomForestClassifier\n",
    "\n",
    "# Generate a random dataset\n",
    "X, y = make_classification(n_samples=100, n_features=20, n_classes=2, random_state=42)\n",
    "\n",
    "# Initialize the classifier\n",
    "clf = RandomForestClassifier(random_state=42)\n",
    "\n",
    "# Function to perform cross-validation and print results\n",
    "def perform_cross_validation(cv, name):\n",
    "    scores = cross_val_score(clf, X, y, cv=cv)\n",
    "    print(f\"{name} Cross-Validation Scores: {scores}\")\n",
    "    print(f\"Mean Score: {scores.mean()}\\n\")\n",
    "\n",
    "# K-Fold Cross-Validation\n",
    "kf = KFold(n_splits=5, random_state=42, shuffle=True)\n",
    "perform_cross_validation(kf, \"K-Fold\")\n",
    "\n",
    "# Stratified K-Fold Cross-Validation\n",
    "skf = StratifiedKFold(n_splits=5, random_state=42, shuffle=True)\n",
    "perform_cross_validation(skf, \"Stratified K-Fold\")\n",
    "\n",
    "# Leave-One-Out Cross-Validation\n",
    "loo = LeaveOneOut()\n",
    "perform_cross_validation(loo, \"Leave-One-Out\")\n",
    "\n",
    "# Repeated K-Fold Cross-Validation\n",
    "rkf = RepeatedKFold(n_splits=5, n_repeats=2, random_state=42)\n",
    "perform_cross_validation(rkf, \"Repeated K-Fold\")\n"
   ]
  }
 ],
 "metadata": {
  "kernelspec": {
   "display_name": "Python 3",
   "language": "python",
   "name": "python3"
  },
  "language_info": {
   "codemirror_mode": {
    "name": "ipython",
    "version": 3
   },
   "file_extension": ".py",
   "mimetype": "text/x-python",
   "name": "python",
   "nbconvert_exporter": "python",
   "pygments_lexer": "ipython3",
   "version": "3.11.9"
  }
 },
 "nbformat": 4,
 "nbformat_minor": 2
}
